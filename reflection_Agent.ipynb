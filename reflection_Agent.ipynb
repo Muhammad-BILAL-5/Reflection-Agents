{
  "nbformat": 4,
  "nbformat_minor": 0,
  "metadata": {
    "colab": {
      "provenance": [],
      "authorship_tag": "ABX9TyNPmSjo2tYdS+1QMcKyRl8x",
      "include_colab_link": true
    },
    "kernelspec": {
      "name": "python3",
      "display_name": "Python 3"
    },
    "language_info": {
      "name": "python"
    }
  },
  "cells": [
    {
      "cell_type": "markdown",
      "metadata": {
        "id": "view-in-github",
        "colab_type": "text"
      },
      "source": [
        "<a href=\"https://colab.research.google.com/github/Muhammad-BILAL-5/Reflection-Agents/blob/main/reflection_Agent.ipynb\" target=\"_parent\"><img src=\"https://colab.research.google.com/assets/colab-badge.svg\" alt=\"Open In Colab\"/></a>"
      ]
    },
    {
      "cell_type": "code",
      "source": [
        "!pip install --quiet --upgrade langchain langchain-google-genai langgraph"
      ],
      "metadata": {
        "colab": {
          "base_uri": "https://localhost:8080/"
        },
        "id": "rD9c0HZH5fgv",
        "outputId": "041c85dd-4ca5-4ab8-f8bc-190f78c7650f"
      },
      "execution_count": 9,
      "outputs": [
        {
          "output_type": "stream",
          "name": "stdout",
          "text": [
            "\u001b[?25l   \u001b[90m━━━━━━━━━━━━━━━━━━━━━━━━━━━━━━━━━━━━━━━━\u001b[0m \u001b[32m0.0/145.3 kB\u001b[0m \u001b[31m?\u001b[0m eta \u001b[36m-:--:--\u001b[0m\r\u001b[2K   \u001b[90m━━━━━━━━━━━━━━━━━━━━━━━━━━━━━━━━━━━━━━━━\u001b[0m \u001b[32m145.3/145.3 kB\u001b[0m \u001b[31m4.6 MB/s\u001b[0m eta \u001b[36m0:00:00\u001b[0m\n",
            "\u001b[?25h\u001b[?25l   \u001b[90m━━━━━━━━━━━━━━━━━━━━━━━━━━━━━━━━━━━━━━━━\u001b[0m \u001b[32m0.0/44.7 kB\u001b[0m \u001b[31m?\u001b[0m eta \u001b[36m-:--:--\u001b[0m\r\u001b[2K   \u001b[90m━━━━━━━━━━━━━━━━━━━━━━━━━━━━━━━━━━━━━━━━\u001b[0m \u001b[32m44.7/44.7 kB\u001b[0m \u001b[31m3.2 MB/s\u001b[0m eta \u001b[36m0:00:00\u001b[0m\n",
            "\u001b[?25h"
          ]
        }
      ]
    },
    {
      "cell_type": "code",
      "execution_count": 1,
      "metadata": {
        "id": "z2xzP-F8h30t"
      },
      "outputs": [],
      "source": [
        "from google.colab import userdata\n",
        "import os\n",
        "\n",
        "os.environ[\"LANGCHAIN_API_KEY\"] = userdata.get(\"langchai_api_key\")\n",
        "os.environ[\"GOOGLE_API_KEY\"] = userdata.get(\"Gemini_Api_Key\")"
      ]
    },
    {
      "cell_type": "code",
      "source": [
        "from langchain_core.messages import AIMessage, BaseMessage, HumanMessage\n",
        "from langchain_core.prompts import ChatPromptTemplate, MessagesPlaceholder\n",
        "from langchain_google_genai import ChatGoogleGenerativeAI\n",
        "\n",
        "prompt = ChatPromptTemplate.from_messages(\n",
        "    [\n",
        "        (\n",
        "            \"system\",\n",
        "            \"You are an essay assistant tasked with writing excellent 5-paragraph essays.\"\n",
        "            \" Generate the best essay possible for the user's request.\"\n",
        "            \" If the user provides critique, respond with a revised version of your previous attempts.\",\n",
        "        ),\n",
        "        MessagesPlaceholder(variable_name=\"messages\"),\n",
        "    ]\n",
        ")\n",
        "\n",
        "llm = ChatGoogleGenerativeAI(model=\"gemini-1.5-pro\")\n",
        "\n",
        "generate = prompt | llm\n",
        "essay = \"\"\n",
        "request = HumanMessage(\n",
        "    content=\"Write an essay on why the little prince is relevant in modern childhood\"\n",
        ")\n",
        "for chunk in generate.stream({\"messages\": [request]}):\n",
        "    print(chunk.content, end=\"\")\n",
        "    essay += chunk.content"
      ],
      "metadata": {
        "id": "OZRKzC7fh9kk",
        "colab": {
          "base_uri": "https://localhost:8080/"
        },
        "outputId": "6614249b-aac2-4799-bcb1-9c396dc3bb4e"
      },
      "execution_count": 6,
      "outputs": [
        {
          "output_type": "stream",
          "name": "stdout",
          "text": [
            "Antoine de Saint-Exupéry’s *The Little Prince*, though seemingly a simple children’s story, carries profound messages that resonate deeply with the complexities of modern childhood.  While the world has changed drastically since the book’s publication, the core struggles of childhood, the pressures of conformity, and the importance of imagination remain timeless themes that make *The Little Prince* as relevant today as ever.  The story gently reminds us of the essential values often lost in a world increasingly dominated by technology and a focus on material success.\n",
            "\n",
            "One key aspect of the book’s enduring relevance lies in its exploration of imagination and wonder.  In a world saturated with structured activities and digital entertainment, children are often pressured to conform to prescribed roles and expectations. *The Little Prince*, with its whimsical characters and fantastical planets, champions the power of creativity and the importance of nurturing individual perspectives.  The Prince’s journey encourages children to embrace their unique vision of the world and resist the pressures to abandon their childlike sense of wonder. He reminds them that the most important things are often invisible to the eye, a powerful message in a society that often prioritizes the tangible and quantifiable.\n",
            "\n",
            "Furthermore, the story highlights the dangers of unchecked ambition and the pursuit of superficiality.  The characters the Prince encounters on his journey, from the king with no subjects to the businessman obsessed with counting stars, represent the pitfalls of adult preoccupations. These encounters serve as cautionary tales, demonstrating how easily we can lose sight of what truly matters in life.  For children navigating a world increasingly focused on achievement and external validation, *The Little Prince* offers a gentle reminder to prioritize genuine connection and inner fulfillment.\n",
            "\n",
            "The story also emphasizes the importance of responsibility and meaningful relationships.  The Prince’s care for his rose, despite its vanity and demands, underscores the significance of nurturing connections and accepting imperfections.  This message is particularly relevant in a modern world where fleeting digital interactions often replace genuine face-to-face connections.  The Prince’s dedication to his rose teaches children the value of commitment, empathy, and the enduring power of love.\n",
            "\n",
            "In conclusion, *The Little Prince* remains a timeless classic precisely because it addresses fundamental human experiences that transcend generations. Its exploration of imagination, its critique of superficiality, and its emphasis on meaningful relationships offer valuable lessons for children navigating the complexities of modern childhood.  By reminding us of the importance of wonder, compassion, and genuine connection, *The Little Prince* continues to inspire and enchant readers of all ages, ensuring its enduring relevance for generations to come."
          ]
        }
      ]
    },
    {
      "cell_type": "code",
      "source": [
        "reflection_prompt = ChatPromptTemplate.from_messages(\n",
        "    [\n",
        "        (\n",
        "            \"system\",\n",
        "            \"You are a teacher grading an essay submission. Generate critique and recommendations for the user's submission.\"\n",
        "            \" Provide detailed recommendations, including requests for length, depth, style, etc.\",\n",
        "        ),\n",
        "        MessagesPlaceholder(variable_name=\"messages\"),\n",
        "    ]\n",
        ")\n",
        "reflect = reflection_prompt | llm\n",
        "reflection = \"\"\n",
        "for chunk in reflect.stream({\"messages\": [request, HumanMessage(content=essay)]}):\n",
        "    print(chunk.content, end=\"\")\n",
        "    reflection += chunk.content"
      ],
      "metadata": {
        "id": "LKb6NdJriAq7",
        "colab": {
          "base_uri": "https://localhost:8080/"
        },
        "outputId": "fb5725aa-59cd-4008-9bf5-f52890fb4314"
      },
      "execution_count": 7,
      "outputs": [
        {
          "output_type": "stream",
          "name": "stdout",
          "text": [
            "This is a good starting point for your essay on the relevance of *The Little Prince* in modern childhood. It touches on important themes and provides a decent overview of the book's message. However, there's room for improvement in terms of depth of analysis, specific examples, and overall structure.\n",
            "\n",
            "**Critique and Recommendations:**\n",
            "\n",
            "* **Length and Depth:** The essay is a bit general. While you mention important themes, you could delve deeper into each one. Aim to expand the essay by providing concrete examples from the book to support your claims.  For instance, when discussing imagination, you could analyze specific scenes like the Prince's encounter with the pilot drawing a boa constrictor or his creation of the sheep.  A good target length would be around 500-750 words, depending on the assignment requirements.\n",
            "\n",
            "* **Analysis of Modern Childhood:** While you mention \"modern childhood,\" you could be more specific about the challenges children face today.  Consider discussing the impact of social media, academic pressure, consumerism, and the fast-paced nature of modern life.  How do these factors specifically relate to the themes in *The Little Prince*? For example, connect the businessman's obsession with counting stars to the modern emphasis on quantifiable achievements, like test scores or social media followers.\n",
            "\n",
            "* **Structure and Organization:** The structure is sound, but you can strengthen it by adding more nuanced transitions between paragraphs.  Instead of simply moving from one theme to the next, try to create a more cohesive flow by linking ideas together.\n",
            "\n",
            "* **Style and Tone:** Your writing style is clear and appropriate for the topic. However, you could make it more engaging by incorporating vivid language and imagery.  Try to evoke the whimsical and poetic tone of the book itself.\n",
            "\n",
            "* **Examples and Evidence:**  As mentioned earlier, including specific examples from the book is crucial.  Don't just tell the reader that the book champions imagination; show them by describing specific scenes and analyzing their significance.  You can also consider incorporating brief quotes from the text to further support your points.\n",
            "\n",
            "* **Conclusion:**  The conclusion summarizes your main points, but it could be more impactful.  Consider ending with a thought-provoking statement about the enduring power of *The Little Prince* and its message for future generations.  Perhaps reflect on what the book offers as an antidote to the pressures of modern childhood.\n",
            "\n",
            "\n",
            "**Specific Recommendations for Improvement:**\n",
            "\n",
            "* **Expand on the theme of imagination:** Analyze the different ways the Prince uses his imagination throughout the story.  How does his perspective differ from the adults he encounters?  Connect this to the ways in which children's creativity is often stifled in modern society.\n",
            "\n",
            "* **Develop the connection to technology and social media:**  Discuss how the constant connectivity and the pressure to present a perfect image online can relate to the themes of superficiality and the pursuit of external validation in *The Little Prince*.\n",
            "\n",
            "* **Explore the theme of loneliness and connection:** The Prince's journey is driven by a desire for connection. How does this resonate with the experience of children today, especially in a world of digital interactions?\n",
            "\n",
            "* **Provide a more nuanced analysis of the characters the Prince meets:**  Each character represents a different aspect of adult folly.  Analyze these characters in more depth and connect them to the pressures and anxieties of modern life.\n",
            "\n",
            "\n",
            "By incorporating these suggestions, you can significantly strengthen your essay and create a more compelling argument for the relevance of *The Little Prince* in modern childhood. Remember to revise and proofread your work carefully before submitting it."
          ]
        }
      ]
    },
    {
      "cell_type": "code",
      "source": [
        "for chunk in generate.stream(\n",
        "    {\"messages\": [request, AIMessage(content=essay), HumanMessage(content=reflection)]}\n",
        "):\n",
        "    print(chunk.content, end=\"\")"
      ],
      "metadata": {
        "id": "uqY7LX-aiE0C",
        "colab": {
          "base_uri": "https://localhost:8080/"
        },
        "outputId": "cbea6e8d-ce3f-455f-8f58-f7ae9e935085"
      },
      "execution_count": 8,
      "outputs": [
        {
          "output_type": "stream",
          "name": "stdout",
          "text": [
            "Antoine de Saint-Exupéry’s *The Little Prince*, a seemingly simple tale of a pilot stranded in the desert and his encounter with a curious boy from another planet, offers a timeless reflection on the human condition, one that resonates with particular poignancy in the context of modern childhood.  While the world has undergone a dramatic transformation since the book’s publication, the core challenges of childhood, the allure of conformity, and the vital importance of nurturing imagination remain strikingly relevant.  *The Little Prince* serves as a gentle yet powerful reminder of the essential values often obscured by the relentless pace and technological saturation of contemporary life.\n",
            "\n",
            "One of the book’s most enduring strengths lies in its celebration of imagination and wonder.  In a world where children’s lives are increasingly structured by scheduled activities, standardized testing, and the pervasive influence of digital entertainment, the Prince’s unconstrained creativity stands in stark contrast.  He draws a boa constrictor that has swallowed an elephant, yet the adults around him see only a hat.  This simple yet profound image encapsulates the way in which societal expectations and a focus on the practical can stifle a child’s innate sense of wonder.  The Prince’s ability to conjure a sheep from a simple drawing, and his delight in the endless possibilities of his imagination, serves as a powerful reminder of the importance of nurturing this essential aspect of childhood.  In a world obsessed with quantifiable results, like the businessman meticulously counting stars, the Prince’s focus on intangible qualities like love, friendship, and the beauty of a sunset offers a much-needed counterpoint.\n",
            "\n",
            "This emphasis on intangible values directly challenges the pervasive consumerism and relentless pursuit of external validation that characterize modern childhood.  The characters the Prince encounters on his journey to Earth embody the pitfalls of these preoccupations.  The conceited man, perpetually seeking admiration, mirrors the pressure children face to curate a perfect image on social media. The lamplighter, bound by a senseless routine, reflects the overwhelming schedules and demands placed on children today.  The tippler, drinking to forget his shame, hints at the anxieties and pressures that can burden young minds.  These encounters serve not only as cautionary tales but also as poignant reflections of the challenges children face in a world often driven by superficiality.\n",
            "\n",
            "The Prince’s own journey, driven by a deep longing for connection and a sense of responsibility for his beloved rose, highlights the importance of meaningful relationships in an increasingly fragmented world.  While digital platforms offer the illusion of constant connection, the Prince’s experience underscores the value of genuine, face-to-face interaction. His tender care for his rose, despite its flaws and demands, speaks to the power of empathy and the enduring strength of love.  This message resonates deeply in a world where fleeting online interactions often replace deeper, more meaningful connections.  The Prince reminds us that true connection requires vulnerability, commitment, and a willingness to embrace imperfection.\n",
            "\n",
            "Ultimately, *The Little Prince* remains a timeless classic because it speaks to the universal human need for meaning, connection, and a sense of wonder.  It offers a powerful antidote to the pressures of modern childhood, reminding us that true happiness lies not in the accumulation of material possessions or external validation, but in the cultivation of inner peace, the appreciation of beauty, and the nurturing of meaningful relationships.  The book's enduring power lies in its ability to reawaken the child within each of us, reminding us of the essential truths that often get lost in the complexities of modern life, ensuring its relevance for generations to come."
          ]
        }
      ]
    },
    {
      "cell_type": "code",
      "source": [
        "from typing import Annotated, List, Sequence\n",
        "from langgraph.graph import END, StateGraph, START\n",
        "from langgraph.graph.message import add_messages\n",
        "from langgraph.checkpoint.memory import MemorySaver\n",
        "from typing_extensions import TypedDict\n",
        "\n",
        "\n",
        "class State(TypedDict):\n",
        "    messages: Annotated[list, add_messages]\n",
        "\n",
        "\n",
        "async def generation_node(state: State) -> State:\n",
        "    return {\"messages\": [await generate.ainvoke(state[\"messages\"])]}\n",
        "\n",
        "\n",
        "async def reflection_node(state: State) -> State:\n",
        "    # Other messages we need to adjust\n",
        "    cls_map = {\"ai\": HumanMessage, \"human\": AIMessage}\n",
        "    # First message is the original user request. We hold it the same for all nodes\n",
        "    translated = [state[\"messages\"][0]] + [\n",
        "        cls_map[msg.type](content=msg.content) for msg in state[\"messages\"][1:]\n",
        "    ]\n",
        "    res = await reflect.ainvoke(translated)\n",
        "    # We treat the output of this as human feedback for the generator\n",
        "    return {\"messages\": [HumanMessage(content=res.content)]}\n",
        "\n",
        "\n",
        "builder = StateGraph(State)\n",
        "builder.add_node(\"generate\", generation_node)\n",
        "builder.add_node(\"reflect\", reflection_node)\n",
        "builder.add_edge(START, \"generate\")\n",
        "\n",
        "\n",
        "def should_continue(state: State):\n",
        "    if len(state[\"messages\"]) > 3:\n",
        "        # End after 3 iterations\n",
        "        return END\n",
        "    return \"reflect\"\n",
        "\n",
        "\n",
        "builder.add_conditional_edges(\"generate\", should_continue)\n",
        "builder.add_edge(\"reflect\", \"generate\")\n",
        "memory = MemorySaver()\n",
        "graph = builder.compile(checkpointer=memory)\n",
        "config = {\"configurable\": {\"thread_id\": \"1\"}}\n",
        "async for event in graph.astream(\n",
        "    {\n",
        "        \"messages\": [\n",
        "            HumanMessage(\n",
        "                content=\"Generate an essay on the topicality of The Little Prince and its message in modern life\"\n",
        "            )\n",
        "        ],\n",
        "    },\n",
        "    config,\n",
        "):\n",
        "    print(event)\n",
        "    print(\"---\")"
      ],
      "metadata": {
        "id": "xSa3aiQViGea",
        "colab": {
          "base_uri": "https://localhost:8080/"
        },
        "outputId": "98e0c86c-383d-4b45-a290-4d31a0832a64"
      },
      "execution_count": 11,
      "outputs": [
        {
          "output_type": "stream",
          "name": "stdout",
          "text": [
            "{'generate': {'messages': [AIMessage(content=\"Antoine de Saint-Exupéry's *The Little Prince*, though seemingly a simple children's story, continues to resonate deeply with readers of all ages, proving its timeless relevance.  Its exploration of essential human values like love, responsibility, and the importance of imagination transcends generational gaps, offering a poignant commentary on the pitfalls of modern life. While our world has changed drastically since the book's publication in 1943, the core message about prioritizing meaningful connections and nurturing our inner child remains strikingly topical.\\n\\nOne of the most prominent themes in *The Little Prince* is the critique of adult preoccupation with superficial matters. The prince encounters adults obsessed with numbers, power, and appearances, neglecting the truly important aspects of life. This resonates powerfully in our contemporary society, often driven by consumerism, social status, and quantifiable achievements. The prince's bewilderment at the grown-ups' lack of wonder and imagination serves as a stark reminder of the spiritual impoverishment that can result from prioritizing material pursuits over genuine human connection and the cultivation of creativity.\\n\\nFurthermore, the story emphasizes the importance of taking responsibility for our relationships and the things we tame.  The fox's poignant lesson about the creation of ties and the meaning of responsibility highlights the significance of nurturing our connections and recognizing our impact on others. In a world increasingly characterized by fleeting interactions and virtual relationships, this message carries particular weight. The prince's care for his rose underscores the importance of dedication and commitment, qualities often overshadowed by the transient nature of modern relationships.\\n\\nThe book also champions the power of imagination and the importance of retaining a childlike sense of wonder. The prince's ability to see beyond the surface and find magic in the mundane serves as an antidote to the cynicism and pragmatism that often permeate adult perspectives. In a world dominated by technology and information overload, *The Little Prince* reminds us of the vital role of creativity, imagination, and the pursuit of beauty in maintaining a fulfilling life.  It encourages us to embrace curiosity, ask questions, and look beyond the immediately apparent.\\n\\nIn conclusion, *The Little Prince* remains remarkably topical, offering a timeless message about the importance of human connection, responsibility, and the power of imagination. Its gentle critique of adult preoccupations and its celebration of childlike wonder provide a powerful antidote to the challenges of modern life. By reminding us of the essential values that often get lost in the pursuit of material gain and social status, *The Little Prince* continues to inspire generations to cultivate meaningful relationships, embrace creativity, and nurture the child within.\", additional_kwargs={}, response_metadata={'prompt_feedback': {'block_reason': 0, 'safety_ratings': []}, 'finish_reason': 'STOP', 'safety_ratings': []}, id='run-c0f11040-99e6-4b7e-8b4c-07f25cd56364-0', usage_metadata={'input_tokens': 61, 'output_tokens': 522, 'total_tokens': 583, 'input_token_details': {'cache_read': 0}})]}}\n",
            "---\n",
            "{'reflect': {'messages': [HumanMessage(content='This is a good starting point for an essay on the topicality of *The Little Prince*. It clearly identifies key themes and connects them to modern life. However, there\\'s room for improvement in terms of depth of analysis, specific examples, and stylistic refinement.\\n\\n**Critique and Recommendations:**\\n\\n* **Expand on the analysis:** While the essay identifies key themes, it tends to state them rather than deeply exploring them.  For example, when discussing the prince\\'s bewilderment at the grown-ups, provide specific instances from the book (the king, the conceited man, the businessman, etc.) and analyze how they reflect particular aspects of modern society.  Don\\'t just say \"consumerism\"; explain *how* the businessman\\'s obsession with counting stars mirrors a consumerist mindset.\\n* **Provide concrete modern examples:**  The essay mentions \"modern life\" and \"contemporary society\" in general terms.  Strengthen your argument by providing specific examples. For instance, when discussing fleeting relationships, you could mention the prevalence of social media and online dating and how these platforms sometimes encourage superficial connections rather than deep, meaningful ones.  Relate the prince\\'s dedication to his rose to the challenges of maintaining long-term commitments in a culture that often prioritizes instant gratification.\\n* **Deepen the discussion of imagination:**  The essay mentions the importance of imagination, but this point could be developed further.  Explore *how* the prince\\'s imagination allows him to find meaning and beauty in the world.  Discuss specific examples, such as his drawing of the boa constrictor swallowing an elephant, and analyze how they demonstrate the power of perspective and creative interpretation.  Connect this to the potential stifling of imagination in a world dominated by screens and structured activities.\\n* **Refine the introduction and conclusion:** The introduction is functional but could be more engaging. Consider opening with a hook that captures the reader\\'s attention. The conclusion summarizes the main points effectively but could benefit from a more impactful closing statement. Perhaps suggest how embracing the book\\'s message can lead to a more fulfilling life in the modern world.\\n* **Incorporate textual evidence:** While you mention key themes, direct quotes and specific scenes from the book would strengthen your analysis and provide more compelling evidence for your claims.  For example, when discussing responsibility, quote the fox\\'s famous line, \"You become responsible, forever, for what you have tamed.\"\\n* **Address potential counterarguments:**  Acknowledge that some might argue that the book\\'s simplicity is outdated or that its message is overly sentimental. Briefly address these potential criticisms to strengthen your overall argument.\\n* **Length:**  The essay is a good starting point, but aiming for a slightly longer piece (depending on the assignment\\'s requirements) would allow you to delve deeper into the themes and provide a more nuanced analysis.\\n\\nBy incorporating these recommendations, you can transform this good essay into a truly excellent one that demonstrates a deep understanding of *The Little Prince* and its enduring relevance in the 21st century.', additional_kwargs={}, response_metadata={}, id='53df4425-f127-4443-a30a-45f8a11cf58e')]}}\n",
            "---\n",
            "{'generate': {'messages': [AIMessage(content='Though seemingly a simple children\\'s fable, Antoine de Saint-Exupéry\\'s *The Little Prince* offers a timeless wisdom that resonates even more profoundly in our complex modern world.  The prince\\'s journey across the asteroids, encountering a cast of peculiar adults, serves as a poignant satire of societal values and a powerful plea for the preservation of our inner child.  While some might dismiss the book as overly sentimental or simplistic, its enduring popularity speaks to its ability to address fundamental human needs and anxieties that transcend time and place.\\n\\nThe prince\\'s encounters with the adults on the asteroids expose the absurdity of prioritizing superficiality and material gain over genuine connection and meaning. The king, ruling a planet with no subjects, represents the futility of power without purpose.  The conceited man, craving admiration but offering nothing in return, reflects the narcissism fueled by social media\\'s insatiable hunger for validation.  The businessman, obsessed with counting stars and claiming ownership of them, embodies the relentless consumerism that drives our modern economy, mirroring our tendency to quantify and commodify even the most intangible aspects of life.  Like the lamplighter, bound to a pointless ritual, many of us are trapped in routines, blindly following outdated conventions without questioning their relevance. These encounters highlight the spiritual emptiness that can result from prioritizing external validation and material pursuits over inner fulfillment.\\n\\nThe fox\\'s lesson about taming and responsibility offers a powerful antidote to the increasing transience of modern relationships. \"You become responsible, forever, for what you have tamed,\" the fox explains, emphasizing the commitment required for genuine connection.  In a world where social media fosters superficial interactions and online dating encourages disposable relationships, the prince\\'s unwavering dedication to his rose stands in stark contrast.  His willingness to nurture and protect his rose, despite its flaws, speaks to the enduring power of love and loyalty, qualities that require effort and patience to cultivate.  The story challenges us to resist the allure of instant gratification and invest in the slow, deliberate work of building meaningful, lasting bonds.\\n\\nFurthermore, *The Little Prince* champions the power of imagination and its crucial role in navigating a world often devoid of wonder.  The prince\\'s drawing of a boa constrictor digesting an elephant, initially perceived by adults as a mere hat, highlights the limitations of a purely literal perspective.  His ability to see beyond the surface and find magic in the mundane—talking to a fox, befriending a rose—demonstrates the transformative potential of imagination. In a world saturated with screens and structured activities, the book reminds us of the importance of unstructured play, creative expression, and the cultivation of a childlike sense of curiosity.  By embracing imagination, we can reclaim a sense of wonder and find meaning in the simplest of things, counteracting the potential for technology to stifle creativity and limit our perspectives.\\n\\nIn conclusion, *The Little Prince* offers not a naive escape from reality but a profound reflection on the human condition in a world increasingly dominated by technology, consumerism, and superficiality.  While the world has changed dramatically since the book\\'s publication, its central message about the importance of human connection, responsibility, and the power of imagination remains strikingly relevant. By heeding the prince\\'s wisdom, we can resist the pressures of modern life and cultivate a more meaningful existence, grounded in genuine relationships, creative expression, and a deep appreciation for the beauty and wonder that surrounds us.  The book\\'s enduring appeal lies in its gentle reminder that the most essential things in life are often invisible to the eye, and that nurturing our inner child is not childish, but essential for a truly fulfilling life.', additional_kwargs={}, response_metadata={'prompt_feedback': {'block_reason': 0, 'safety_ratings': []}, 'finish_reason': 'STOP', 'safety_ratings': []}, id='run-ec95ef3d-e560-47b1-9505-d148524013f6-0', usage_metadata={'input_tokens': 1206, 'output_tokens': 741, 'total_tokens': 1947, 'input_token_details': {'cache_read': 0}})]}}\n",
            "---\n"
          ]
        }
      ]
    }
  ]
}